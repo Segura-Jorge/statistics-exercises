{
 "cells": [
  {
   "cell_type": "code",
   "execution_count": 27,
   "id": "dd799cc7-51ea-4591-9013-d0355ce8a1e7",
   "metadata": {
    "tags": []
   },
   "outputs": [],
   "source": [
    "import numpy as np\n",
    "import matplotlib.pyplot as plt\n",
    "import seaborn as sns\n",
    "from scipy import stats"
   ]
  },
  {
   "cell_type": "markdown",
   "id": "ce380046-b88c-4aba-b64f-d7eaffd3bece",
   "metadata": {},
   "source": [
    "### For the following problems, use python to simulate the problem and calculate an experimental probability, then compare that to the theoretical probability."
   ]
  },
  {
   "cell_type": "markdown",
   "id": "951503bf-b3ba-4140-9fa4-56f512f2592f",
   "metadata": {},
   "source": [
    "## 1. A bank found that the average number of cars waiting during the noon hour at a drive-up window follows a Poisson distribution with a mean of 2 cars. Make a chart of this distribution and answer these questions concerning the probability of cars waiting at the drive-up window.\n",
    "### - What is the probability that no cars drive up in the noon hour?\n",
    "### - What is the probability that 3 or more cars come through the drive through?\n",
    "### - How likely is it that the drive through gets at least 1 car?\n"
   ]
  },
  {
   "cell_type": "code",
   "execution_count": 14,
   "id": "bb2e0448-57fe-488d-b431-4d12fe8e552f",
   "metadata": {
    "tags": []
   },
   "outputs": [],
   "source": [
    "window_bank = stats.poisson(2)"
   ]
  },
  {
   "cell_type": "code",
   "execution_count": 15,
   "id": "c19ca07b-db0d-4c68-ab7f-bbe2e2a2eb56",
   "metadata": {
    "tags": []
   },
   "outputs": [
    {
     "data": {
      "image/png": "[encoded data removed]",
      "text/plain": [
       "<Figure size 800x600 with 1 Axes>"
      ]
     },
     "metadata": {},
     "output_type": "display_data"
    }
   ],
   "source": [
    "plt.figure(figsize=(8, 6))\n",
    "x = np.arange(0, 10)\n",
    "y = window_bank.pmf(x)\n",
    "\n",
    "plt.bar(x, y, ec='black', width=1)\n",
    "plt.title(\"What is the chance that x number of cars come to the window?\")\n",
    "plt.xlabel(\"Number of cars\")\n",
    "plt.ylabel(\"P(X = x)\")\n",
    "plt.show()"
   ]
  },
  {
   "cell_type": "code",
   "execution_count": 28,
   "id": "e8b56a82-3f89-44cd-8fe9-00a18a8b1764",
   "metadata": {
    "tags": []
   },
   "outputs": [
    {
     "data": {
      "text/plain": [
       "0.1401"
      ]
     },
     "execution_count": 28,
     "metadata": {},
     "output_type": "execute_result"
    }
   ],
   "source": [
    "# What is the probability that no cars drive up in the noon hour?\n",
    "n_sims = 10_000\n",
    "\n",
    "(window_bank.rvs(n_sims) == 0).mean()"
   ]
  },
  {
   "cell_type": "code",
   "execution_count": 29,
   "id": "fbdf713a-aec2-4431-ba8a-ab3e4d5b2404",
   "metadata": {
    "tags": []
   },
   "outputs": [
    {
     "data": {
      "text/plain": [
       "0.1353352832366127"
      ]
     },
     "execution_count": 29,
     "metadata": {},
     "output_type": "execute_result"
    }
   ],
   "source": [
    "window_bank.pmf(0)"
   ]
  },
  {
   "cell_type": "code",
   "execution_count": 30,
   "id": "976247be-a745-4213-bc17-2626fb8f8add",
   "metadata": {},
   "outputs": [
    {
     "data": {
      "text/plain": [
       "0.3207"
      ]
     },
     "execution_count": 30,
     "metadata": {},
     "output_type": "execute_result"
    }
   ],
   "source": [
    "# What is the probability that 3 or more cars come through the drive through?\n",
    "(window_bank.rvs(n_sims) >= 3).mean()"
   ]
  },
  {
   "cell_type": "code",
   "execution_count": 31,
   "id": "13779d10-272d-4471-bb21-040ff7ac3754",
   "metadata": {
    "tags": []
   },
   "outputs": [
    {
     "data": {
      "text/plain": [
       "0.32332358381693654"
      ]
     },
     "execution_count": 31,
     "metadata": {},
     "output_type": "execute_result"
    }
   ],
   "source": [
    "# Theorical Answer\n",
    "window_bank.sf(2)"
   ]
  },
  {
   "cell_type": "code",
   "execution_count": 32,
   "id": "2d23c273-24d6-4e65-a7ae-95941683dde4",
   "metadata": {
    "tags": []
   },
   "outputs": [
    {
     "data": {
      "text/plain": [
       "0.3233235838169365"
      ]
     },
     "execution_count": 32,
     "metadata": {},
     "output_type": "execute_result"
    }
   ],
   "source": [
    "# Theorical Answer\n",
    "window_bank.pmf(3) + window_bank.sf(3)"
   ]
  },
  {
   "cell_type": "code",
   "execution_count": 33,
   "id": "6cfa37cc-749c-4493-9c52-5547734baf9a",
   "metadata": {},
   "outputs": [
    {
     "data": {
      "text/plain": [
       "0.858"
      ]
     },
     "execution_count": 33,
     "metadata": {},
     "output_type": "execute_result"
    }
   ],
   "source": [
    "# How likely is it that the drive through gets at least 1 car?\n",
    "(window_bank.rvs(n_sims) >= 1).mean()"
   ]
  },
  {
   "cell_type": "code",
   "execution_count": 34,
   "id": "0e0e96ea-4439-4b47-a63e-d23c4c604fc1",
   "metadata": {
    "tags": []
   },
   "outputs": [
    {
     "data": {
      "text/plain": [
       "0.8646647167633873"
      ]
     },
     "execution_count": 34,
     "metadata": {},
     "output_type": "execute_result"
    }
   ],
   "source": [
    "# Theorical Answer\n",
    "window_bank.sf(0)"
   ]
  },
  {
   "cell_type": "markdown",
   "id": "3d74d5b0-2236-47b5-acae-918ca05b5c3e",
   "metadata": {},
   "source": [
    "## 2. Grades of State University graduates are normally distributed with a mean of 3.0 and a standard deviation of 0.3. Calculate the following:\n",
    "### - What grade point average is required to be in the top 5% of the graduating class?\n",
    "### - What GPA constitutes the bottom 15% of the class?\n",
    "### - An eccentric alumnus left scholarship money for students in the third decile from the bottom of their class. \n",
    "### Determine the range of the third decile. Would a student with a 2.8 grade point average qualify for this scholarship?\n",
    "### - If I have a GPA of 3.5, what percentile am I in?"
   ]
  },
  {
   "cell_type": "code",
   "execution_count": 23,
   "id": "84745181-cb40-4790-a832-5519cfd457eb",
   "metadata": {},
   "outputs": [],
   "source": [
    "# What grade point average is required to be in the top 5% of the graduating class?\n"
   ]
  },
  {
   "cell_type": "code",
   "execution_count": 35,
   "id": "46e97e0a-5a92-445a-a5ea-2ea3f85b710e",
   "metadata": {
    "tags": []
   },
   "outputs": [
    {
     "data": {
      "text/plain": [
       "3.4934560880854417"
      ]
     },
     "execution_count": 35,
     "metadata": {},
     "output_type": "execute_result"
    }
   ],
   "source": [
    "# Theorical Answer\n",
    "grades_distribution = stats.norm(3.0, 0.3)\n",
    "grades_distribution.isf(.05)"
   ]
  },
  {
   "cell_type": "code",
   "execution_count": 36,
   "id": "a522c23f-8af3-43f0-990b-04936f64a87e",
   "metadata": {
    "tags": []
   },
   "outputs": [
    {
     "data": {
      "text/plain": [
       "3.4934560880854417"
      ]
     },
     "execution_count": 36,
     "metadata": {},
     "output_type": "execute_result"
    }
   ],
   "source": [
    "grades_distribution.ppf(.95)"
   ]
  },
  {
   "cell_type": "code",
   "execution_count": 38,
   "id": "3b85c3e6-f042-4e02-af5a-390f18c4da6f",
   "metadata": {
    "tags": []
   },
   "outputs": [],
   "source": [
    "# What GPA constitutes the bottom 15% of the class?"
   ]
  },
  {
   "cell_type": "code",
   "execution_count": 39,
   "id": "6fb9994a-651e-42dc-95f2-ed190ab271d0",
   "metadata": {
    "tags": []
   },
   "outputs": [
    {
     "data": {
      "text/plain": [
       "2.689069983151863"
      ]
     },
     "execution_count": 39,
     "metadata": {},
     "output_type": "execute_result"
    }
   ],
   "source": [
    "# Theorical Answer\n",
    "grades_distribution.ppf(.15)"
   ]
  },
  {
   "cell_type": "code",
   "execution_count": 40,
   "id": "0a2fbff7-ec1d-42e1-89f0-309f3ea6e074",
   "metadata": {
    "tags": []
   },
   "outputs": [
    {
     "data": {
      "text/plain": [
       "2.842679846187588"
      ]
     },
     "execution_count": 40,
     "metadata": {},
     "output_type": "execute_result"
    }
   ],
   "source": [
    "# An eccentric alumnus left scholarship money for students in the third decile from the bottom of their class. \n",
    "# Determine the range of the third decile. Would a student with a 2.8 grade point average qualify for this scholarship?\n",
    "# Theorical Answer\n",
    "grades_distribution.ppf(.3)\n",
    "# yes a student with a 2.846... or lower would qualify for the scolarship/"
   ]
  },
  {
   "cell_type": "code",
   "execution_count": 43,
   "id": "af39d828-a02a-4563-8a1d-81ffe30466f8",
   "metadata": {
    "tags": []
   },
   "outputs": [
    {
     "data": {
      "text/plain": [
       "0.0477903522728147"
      ]
     },
     "execution_count": 43,
     "metadata": {},
     "output_type": "execute_result"
    }
   ],
   "source": [
    "# Theorical Answer\n",
    "grades_distribution.sf(3.5)"
   ]
  },
  {
   "cell_type": "markdown",
   "id": "c290a1d1-38c0-4361-8392-fb8ea0124527",
   "metadata": {},
   "source": [
    "## 3. A marketing website has an average click-through rate of 2%. One day they observe 4326 visitors and 97 click-throughs. How likely is it that this many people or more click through?"
   ]
  },
  {
   "cell_type": "code",
   "execution_count": 44,
   "id": "f121962f-02db-49a1-907d-cb106cd9fc9d",
   "metadata": {},
   "outputs": [
    {
     "data": {
      "text/plain": [
       "86.5314"
      ]
     },
     "execution_count": 44,
     "metadata": {},
     "output_type": "execute_result"
    }
   ],
   "source": [
    "website_distribution = stats.binom(4326, .02)\n",
    "website_sim = website_distribution.rvs(n_sims)\n",
    "website_sim.mean()"
   ]
  },
  {
   "cell_type": "code",
   "execution_count": 45,
   "id": "6eda7516-9db0-4f41-84e1-0ee145ad6d53",
   "metadata": {
    "tags": []
   },
   "outputs": [
    {
     "data": {
      "text/plain": [
       "0.1415"
      ]
     },
     "execution_count": 45,
     "metadata": {},
     "output_type": "execute_result"
    }
   ],
   "source": [
    "(website_sim >= 97).mean()"
   ]
  },
  {
   "cell_type": "code",
   "execution_count": 46,
   "id": "7677d554-7993-4c1e-a967-d2fe0fcafee8",
   "metadata": {
    "tags": []
   },
   "outputs": [
    {
     "data": {
      "text/plain": [
       "0.13975823631416448"
      ]
     },
     "execution_count": 46,
     "metadata": {},
     "output_type": "execute_result"
    }
   ],
   "source": [
    "website_distribution.sf(96)"
   ]
  },
  {
   "cell_type": "markdown",
   "id": "13be3cb8-ee7c-4042-b6fd-dd8b71a3dd1f",
   "metadata": {},
   "source": [
    "## 4. You are working on some statistics homework consisting of 100 questions where all of the answers are a probability rounded to the hundreths place. Looking to save time, you put down random probabilities as the answer to each question.\n",
    "### What is the probability that at least one of your first 60 answers is correct?\n"
   ]
  },
  {
   "cell_type": "code",
   "execution_count": 47,
   "id": "a225be00-4d99-44a2-b369-43d66dd61fcc",
   "metadata": {},
   "outputs": [
    {
     "data": {
      "text/plain": [
       "0.4515"
      ]
     },
     "execution_count": 47,
     "metadata": {},
     "output_type": "execute_result"
    }
   ],
   "source": [
    "answer_distribution = stats.binom(60, .01)\n",
    "(answer_distribution.rvs(n_sims) >= 1).mean()"
   ]
  },
  {
   "cell_type": "code",
   "execution_count": 48,
   "id": "5e0aeb62-720f-4967-a32d-740fe0fad388",
   "metadata": {
    "tags": []
   },
   "outputs": [
    {
     "data": {
      "text/plain": [
       "0.45284335760923855"
      ]
     },
     "execution_count": 48,
     "metadata": {},
     "output_type": "execute_result"
    }
   ],
   "source": [
    "# Theoretical Answer\n",
    "answer_distribution.sf(0)"
   ]
  },
  {
   "cell_type": "markdown",
   "id": "240241f4-be19-49ac-8b78-4fa5d0d2ca49",
   "metadata": {},
   "source": [
    "## 5. The codeup staff tends to get upset when the student break area is not cleaned up. Suppose that there's a 3% chance that any one student cleans the break area when they visit it, and, on any given day, about 90% of the 3 active cohorts of 22 students visit the break area. How likely is it that the break area gets cleaned up each day? How likely is it that it goes two days without getting cleaned up? All week?"
   ]
  },
  {
   "cell_type": "code",
   "execution_count": 50,
   "id": "ac02658f-35f5-4ff1-bcec-b3093b69ca8c",
   "metadata": {},
   "outputs": [],
   "source": [
    "# 66 total students\n",
    "# 0.9(66) visit the break room\n",
    "# 0.03 chance one will clean\n",
    "student_distribution = stats.binom(66, .9)\n",
    "\n",
    "average_students = int(student_distribution.rvs(n_sims).mean().round())\n",
    "\n",
    "cleaning_distribution = stats.binom(average_students, .03)"
   ]
  },
  {
   "cell_type": "code",
   "execution_count": 51,
   "id": "44e8a0e9-00a8-4496-b9e6-8866f45910cd",
   "metadata": {
    "tags": []
   },
   "outputs": [
    {
     "data": {
      "text/plain": [
       "0.8342199288437352"
      ]
     },
     "execution_count": 51,
     "metadata": {},
     "output_type": "execute_result"
    }
   ],
   "source": [
    "prob_of_clean_each_day = cleaning_distribution.sf(0)\n",
    "prob_of_clean_each_day"
   ]
  },
  {
   "cell_type": "code",
   "execution_count": 52,
   "id": "0326b01f-3592-4996-8ccb-d4272bc68583",
   "metadata": {
    "tags": []
   },
   "outputs": [
    {
     "data": {
      "text/plain": [
       "0.027483031992576224"
      ]
     },
     "execution_count": 52,
     "metadata": {},
     "output_type": "execute_result"
    }
   ],
   "source": [
    "# How likely is it that it goes two days without getting cleaned up?\n",
    "two_days_distribution = stats.binom(2, 1 - prob_of_clean_each_day)\n",
    "two_days_distribution.pmf(2)"
   ]
  },
  {
   "cell_type": "code",
   "execution_count": 53,
   "id": "73744814-78d7-4085-a46a-716cd4b579bc",
   "metadata": {
    "tags": []
   },
   "outputs": [
    {
     "data": {
      "text/plain": [
       "0.00012521651388091348"
      ]
     },
     "execution_count": 53,
     "metadata": {},
     "output_type": "execute_result"
    }
   ],
   "source": [
    "# All week\n",
    "one_week_distribution = stats.binom(5, 1 - prob_of_clean_each_day)\n",
    "one_week_distribution.pmf(5)"
   ]
  },
  {
   "cell_type": "markdown",
   "id": "624182bc-bab0-4fed-8d46-eabd77c252db",
   "metadata": {
    "tags": []
   },
   "source": [
    "## 6. You want to get lunch at La Panaderia, but notice that the line is usually very long at lunchtime. After several weeks of careful observation, you notice that the average number of people in line when your lunch break starts is normally distributed with a mean of 15 and standard deviation of 3. If it takes 2 minutes for each person to order, and 10 minutes from ordering to getting your food, what is the likelihood that you have at least 15 minutes left to eat your food before you have to go back to class? Assume you have one hour for lunch, and ignore travel time to and from La Panaderia.\n"
   ]
  },
  {
   "cell_type": "code",
   "execution_count": 54,
   "id": "58331af1-8017-47a2-997e-d889c27c28bf",
   "metadata": {},
   "outputs": [],
   "source": [
    "mean_people = 15\n",
    "sd_people = 3\n",
    "\n",
    "mean_wait = mean_people * 2\n",
    "sd_wait = sd_people * 2\n",
    "\n",
    "line_distribution = stats.norm(mean_wait, sd_wait)"
   ]
  },
  {
   "cell_type": "code",
   "execution_count": 55,
   "id": "4e81fd33-fc3f-43f8-9a01-21aa10f512ee",
   "metadata": {
    "tags": []
   },
   "outputs": [
    {
     "data": {
      "text/plain": [
       "0.6914624612740131"
      ]
     },
     "execution_count": 55,
     "metadata": {},
     "output_type": "execute_result"
    }
   ],
   "source": [
    "max_time_i_can_wait = 45 - 12\n",
    "\n",
    "line_distribution.cdf(max_time_i_can_wait)"
   ]
  },
  {
   "cell_type": "code",
   "execution_count": null,
   "id": "a94e26a4-f295-48ae-90d2-ae1aa993ca53",
   "metadata": {},
   "outputs": [],
   "source": []
  },
  {
   "cell_type": "markdown",
   "id": "420348db-5457-44da-a6de-171f2265d9bf",
   "metadata": {},
   "source": [
    "## 7. Connect to the employees database and find the average salary of current employees, along with the standard deviation. For the following questions, calculate the answer based on modeling the employees salaries with a normal distribution defined by the calculated mean and standard deviation then compare this answer to the actual values present in the salaries dataset.\n",
    "### - What percent of employees earn less than 60,000?\n",
    "### - What percent of employees earn more than 95,000?\n",
    "### - What percent of employees earn between 65,000 and 80,000?\n",
    "### - What do the top 5% of employees make?\n",
    "\n",
    "##### Hint If you're looking at this exercise and wondering \"How do I get pandas to talk the database, again?\", remember that you'll need 3 things: your .gitignore, your env.py, and to use pd.read_sql. Copy over your .gitignore and env.py from your data science libraries exercises folder, and connect to the employees database like so:\n"
   ]
  },
  {
   "cell_type": "code",
   "execution_count": 68,
   "id": "4fa41d4f-ab9c-4f0d-aa98-0c93bb13b8a7",
   "metadata": {},
   "outputs": [
    {
     "data": {
      "text/html": [
       "<div>\n",
       "<style scoped>\n",
       "    .dataframe tbody tr th:only-of-type {\n",
       "        vertical-align: middle;\n",
       "    }\n",
       "\n",
       "    .dataframe tbody tr th {\n",
       "        vertical-align: top;\n",
       "    }\n",
       "\n",
       "    .dataframe thead th {\n",
       "        text-align: right;\n",
       "    }\n",
       "</style>\n",
       "<table border=\"1\" class=\"dataframe\">\n",
       "  <thead>\n",
       "    <tr style=\"text-align: right;\">\n",
       "      <th></th>\n",
       "      <th>emp_no</th>\n",
       "      <th>salary</th>\n",
       "      <th>from_date</th>\n",
       "      <th>to_date</th>\n",
       "    </tr>\n",
       "  </thead>\n",
       "  <tbody>\n",
       "    <tr>\n",
       "      <th>0</th>\n",
       "      <td>10001</td>\n",
       "      <td>88958</td>\n",
       "      <td>2002-06-22</td>\n",
       "      <td>9999-01-01</td>\n",
       "    </tr>\n",
       "    <tr>\n",
       "      <th>1</th>\n",
       "      <td>10002</td>\n",
       "      <td>72527</td>\n",
       "      <td>2001-08-02</td>\n",
       "      <td>9999-01-01</td>\n",
       "    </tr>\n",
       "    <tr>\n",
       "      <th>2</th>\n",
       "      <td>10003</td>\n",
       "      <td>43311</td>\n",
       "      <td>2001-12-01</td>\n",
       "      <td>9999-01-01</td>\n",
       "    </tr>\n",
       "    <tr>\n",
       "      <th>3</th>\n",
       "      <td>10004</td>\n",
       "      <td>74057</td>\n",
       "      <td>2001-11-27</td>\n",
       "      <td>9999-01-01</td>\n",
       "    </tr>\n",
       "    <tr>\n",
       "      <th>4</th>\n",
       "      <td>10005</td>\n",
       "      <td>94692</td>\n",
       "      <td>2001-09-09</td>\n",
       "      <td>9999-01-01</td>\n",
       "    </tr>\n",
       "    <tr>\n",
       "      <th>...</th>\n",
       "      <td>...</td>\n",
       "      <td>...</td>\n",
       "      <td>...</td>\n",
       "      <td>...</td>\n",
       "    </tr>\n",
       "    <tr>\n",
       "      <th>240119</th>\n",
       "      <td>499995</td>\n",
       "      <td>52868</td>\n",
       "      <td>2002-06-01</td>\n",
       "      <td>9999-01-01</td>\n",
       "    </tr>\n",
       "    <tr>\n",
       "      <th>240120</th>\n",
       "      <td>499996</td>\n",
       "      <td>69501</td>\n",
       "      <td>2002-05-12</td>\n",
       "      <td>9999-01-01</td>\n",
       "    </tr>\n",
       "    <tr>\n",
       "      <th>240121</th>\n",
       "      <td>499997</td>\n",
       "      <td>83441</td>\n",
       "      <td>2001-08-26</td>\n",
       "      <td>9999-01-01</td>\n",
       "    </tr>\n",
       "    <tr>\n",
       "      <th>240122</th>\n",
       "      <td>499998</td>\n",
       "      <td>55003</td>\n",
       "      <td>2001-12-25</td>\n",
       "      <td>9999-01-01</td>\n",
       "    </tr>\n",
       "    <tr>\n",
       "      <th>240123</th>\n",
       "      <td>499999</td>\n",
       "      <td>77303</td>\n",
       "      <td>2001-11-29</td>\n",
       "      <td>9999-01-01</td>\n",
       "    </tr>\n",
       "  </tbody>\n",
       "</table>\n",
       "<p>240124 rows × 4 columns</p>\n",
       "</div>"
      ],
      "text/plain": [
       "        emp_no  salary   from_date     to_date\n",
       "0        10001   88958  2002-06-22  9999-01-01\n",
       "1        10002   72527  2001-08-02  9999-01-01\n",
       "2        10003   43311  2001-12-01  9999-01-01\n",
       "3        10004   74057  2001-11-27  9999-01-01\n",
       "4        10005   94692  2001-09-09  9999-01-01\n",
       "...        ...     ...         ...         ...\n",
       "240119  499995   52868  2002-06-01  9999-01-01\n",
       "240120  499996   69501  2002-05-12  9999-01-01\n",
       "240121  499997   83441  2001-08-26  9999-01-01\n",
       "240122  499998   55003  2001-12-25  9999-01-01\n",
       "240123  499999   77303  2001-11-29  9999-01-01\n",
       "\n",
       "[240124 rows x 4 columns]"
      ]
     },
     "execution_count": 68,
     "metadata": {},
     "output_type": "execute_result"
    }
   ],
   "source": [
    "import pandas as pd\n",
    "import env\n",
    "\n",
    "url = f'mysql+pymysql://{env.user}:{env.password}@{env.host}/employees'  \n",
    "salaries = pd.read_sql('SELECT * FROM salaries where to_date >now()', url)\n",
    "salaries"
   ]
  },
  {
   "cell_type": "code",
   "execution_count": 69,
   "id": "14c23db1-a84e-430b-af69-a3166f61d901",
   "metadata": {
    "tags": []
   },
   "outputs": [
    {
     "data": {
      "text/plain": [
       "72012.23585730705"
      ]
     },
     "execution_count": 69,
     "metadata": {},
     "output_type": "execute_result"
    }
   ],
   "source": [
    "μ = salaries.salary.mean()\n",
    "μ"
   ]
  },
  {
   "cell_type": "code",
   "execution_count": 70,
   "id": "74332b43-0b3f-473b-ab32-58fd023365c0",
   "metadata": {
    "tags": []
   },
   "outputs": [
    {
     "data": {
      "text/plain": [
       "17309.995380251985"
      ]
     },
     "execution_count": 70,
     "metadata": {},
     "output_type": "execute_result"
    }
   ],
   "source": [
    "σ = salaries.salary.std()\n",
    "σ"
   ]
  },
  {
   "cell_type": "code",
   "execution_count": 73,
   "id": "425bbf30-cda1-4aa4-9445-8e879cc7633b",
   "metadata": {
    "tags": []
   },
   "outputs": [
    {
     "data": {
      "text/plain": [
       "0.24385742480214434"
      ]
     },
     "execution_count": 73,
     "metadata": {},
     "output_type": "execute_result"
    }
   ],
   "source": [
    "#What percent of employees earn less than 60,000?\n",
    "stats.norm(μ, σ).cdf(60000)"
   ]
  },
  {
   "cell_type": "code",
   "execution_count": 74,
   "id": "8d69d5a6-16ee-4d20-9556-d6de9d52a3a2",
   "metadata": {
    "tags": []
   },
   "outputs": [
    {
     "data": {
      "text/plain": [
       "0.09208819199804058"
      ]
     },
     "execution_count": 74,
     "metadata": {},
     "output_type": "execute_result"
    }
   ],
   "source": [
    "# What percent of employees earn more than 95,000?\n",
    "stats.norm(μ, σ).sf(95000)"
   ]
  },
  {
   "cell_type": "code",
   "execution_count": 75,
   "id": "8d2c965b-36b8-451a-af40-f6b5ca207d4f",
   "metadata": {
    "tags": []
   },
   "outputs": [
    {
     "data": {
      "text/plain": [
       "0.3350605685446666"
      ]
     },
     "execution_count": 75,
     "metadata": {},
     "output_type": "execute_result"
    }
   ],
   "source": [
    "# What percent of employees earn between 65,000 and 80,000?\n",
    "( 1 - (stats.norm(μ, σ).cdf(65000))) - stats.norm (μ, σ).sf(80000)"
   ]
  },
  {
   "cell_type": "code",
   "execution_count": 76,
   "id": "45c50c36-5979-480a-b237-7148dde82b21",
   "metadata": {
    "tags": []
   },
   "outputs": [
    {
     "data": {
      "text/plain": [
       "100484.64454102777"
      ]
     },
     "execution_count": 76,
     "metadata": {},
     "output_type": "execute_result"
    }
   ],
   "source": [
    "# What do the top 5% of employees make?\n",
    "stats.norm(μ, σ).isf(.05)"
   ]
  },
  {
   "cell_type": "code",
   "execution_count": null,
   "id": "d47ca78b-e332-4c80-a129-ec7143e42f4e",
   "metadata": {},
   "outputs": [],
   "source": []
  }
 ],
 "metadata": {
  "kernelspec": {
   "display_name": "Python 3 (ipykernel)",
   "language": "python",
   "name": "python3"
  },
  "language_info": {
   "codemirror_mode": {
    "name": "ipython",
    "version": 3
   },
   "file_extension": ".py",
   "mimetype": "text/x-python",
   "name": "python",
   "nbconvert_exporter": "python",
   "pygments_lexer": "ipython3",
   "version": "3.11.4"
  }
 },
 "nbformat": 4,
 "nbformat_minor": 5
}

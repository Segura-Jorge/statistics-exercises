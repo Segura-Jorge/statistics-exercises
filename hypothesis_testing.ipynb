{
 "cells": [
  {
   "cell_type": "markdown",
   "id": "e53b5e07-43dd-486c-b091-96b2d84e6f87",
   "metadata": {},
   "source": [
    "## Do your work for this exercise in a jupyter notebook named hypothesis_testing.ipynb."
   ]
  },
  {
   "cell_type": "markdown",
   "id": "cf572788-421e-4c28-a7e5-cfeb7c6c3399",
   "metadata": {},
   "source": [
    "### For each of the following questions, formulate a null and alternative hypothesis (be as specific as you can be), then give an example of what a true positive, true negative, type I and type II errors would look like. Note that some of the questions are intentionally phrased in a vague way. It is your job to reword these as more precise questions that could be tested."
   ]
  },
  {
   "cell_type": "markdown",
   "id": "f58f9f55-0195-469c-bfe5-fb5e6ff0d5ce",
   "metadata": {},
   "source": [
    "## - Has the network latency gone up since we switched internet service providers?\n"
   ]
  },
  {
   "cell_type": "markdown",
   "id": "4e239156-11b1-4136-a948-8aa702917383",
   "metadata": {
    "tags": []
   },
   "source": [
    "### Hypotheses\n",
    "\n",
    "### $H_0$: The speed of query execution hasn't changed since we switched internet service providers\n",
    "### $H_a$: The speed of query execution has gone up since we switched internet service providers\n",
    "\n",
    "### Possible Results:\n",
    "\n",
    "### True Positive: We find that the speed of query execution has gone up and it has gone up.\n",
    "### True Negative: We find that the speed of query execution hasn't changed and it hasn't changed.\n",
    "### False Positive (Type I Error): We find that the speed of query execution has gone up but we had upgraded to fiber optics also.\n",
    "### False Negative (Type II Error): We find that the speed of query execution hasn't changed but we have more server requests due to a new department."
   ]
  },
  {
   "cell_type": "markdown",
   "id": "c130ff4c-5c09-45ee-88c0-97d7cc802290",
   "metadata": {
    "tags": []
   },
   "source": [
    "## -Is the website redesign any good?"
   ]
  },
  {
   "cell_type": "markdown",
   "id": "0bb1b772-4e6f-4100-91d8-0491b88b88cc",
   "metadata": {},
   "source": [
    "### Hypotheses\n",
    "\n",
    "### $H_0$: The number of visits have not changed.\n",
    "### $H_a$: The number of visits are higher.\n",
    "\n",
    "### Possible Results:\n",
    "### True Positive: We find that the number of visits are higher than the previous website and they are higher.\n",
    "### True Negative: We find that the number of visits haven't changed and it hasn't changed.\n",
    "### False Positive (Type I Error): We find that the number of visits are higher but we recently ran an internet add campaign.\n",
    "### False Negative (Type II Error): We find that the number of visits haven't changed but our ad campaign just ended."
   ]
  },
  {
   "cell_type": "markdown",
   "id": "a782831e-4e61-4f66-acc3-ff81ba9d107d",
   "metadata": {},
   "source": [
    "## -Is our television ad driving more sales?"
   ]
  },
  {
   "cell_type": "markdown",
   "id": "40ca2efa-dc08-49aa-bce5-f69c3593fcfe",
   "metadata": {},
   "source": [
    "### $H_0$: Our total sales haven't changed.\n",
    "### $H_a$: Our toal sales have gone up.\n",
    "### True Positive: We find total sales have gone up and they have gone up.\n",
    "### True Negative: We find that the total sales haven't changed and they aren't causing more or less sales.\n",
    "### False Positive (Type I Error): We find that total sales have gone up but we also just opened a new store.\n",
    "### False Negative (Type II Error): We find that the total sales haven't changed but we also just closed a store."
   ]
  },
  {
   "attachments": {
    "dfc439d9-ea20-439b-bb7e-292a35943193.png": {
     "image/png": "[encoded data removed]"
    }
   },
   "cell_type": "markdown",
   "id": "9934001c-f1b1-44e3-b098-2bef935df4e0",
   "metadata": {},
   "source": [
    "## 1. Use the following contingency table to help answer the question of whether using a Macbook and being a Codeup student are independent of each other.\n",
    "![Screenshot 2023-10-10 at 4.25.04 PM.png](attachment:dfc439d9-ea20-439b-bb7e-292a35943193.png)"
   ]
  },
  {
   "cell_type": "code",
   "execution_count": 86,
   "id": "b13ca50f-b4f3-4d73-b91e-e51ff551f04f",
   "metadata": {
    "tags": []
   },
   "outputs": [],
   "source": [
    "import pandas as pd\n",
    "import numpy as np\n",
    "import matplotlib.pyplot as plt\n",
    "import seaborn as sns\n",
    "from scipy import stats"
   ]
  },
  {
   "cell_type": "code",
   "execution_count": 87,
   "id": "38da60b7-c1e4-4d37-8237-e934610704a3",
   "metadata": {
    "tags": []
   },
   "outputs": [
    {
     "data": {
      "text/html": [
       "<div>\n",
       "<style scoped>\n",
       "    .dataframe tbody tr th:only-of-type {\n",
       "        vertical-align: middle;\n",
       "    }\n",
       "\n",
       "    .dataframe tbody tr th {\n",
       "        vertical-align: top;\n",
       "    }\n",
       "\n",
       "    .dataframe thead th {\n",
       "        text-align: right;\n",
       "    }\n",
       "</style>\n",
       "<table border=\"1\" class=\"dataframe\">\n",
       "  <thead>\n",
       "    <tr style=\"text-align: right;\">\n",
       "      <th></th>\n",
       "      <th>Codeup Student</th>\n",
       "      <th>Not Codeup Student</th>\n",
       "    </tr>\n",
       "  </thead>\n",
       "  <tbody>\n",
       "    <tr>\n",
       "      <th>Uses a Macbook</th>\n",
       "      <td>49</td>\n",
       "      <td>20</td>\n",
       "    </tr>\n",
       "    <tr>\n",
       "      <th>Doesn't Use A Macbook</th>\n",
       "      <td>1</td>\n",
       "      <td>30</td>\n",
       "    </tr>\n",
       "  </tbody>\n",
       "</table>\n",
       "</div>"
      ],
      "text/plain": [
       "                       Codeup Student  Not Codeup Student\n",
       "Uses a Macbook                     49                  20\n",
       "Doesn't Use A Macbook               1                  30"
      ]
     },
     "execution_count": 87,
     "metadata": {},
     "output_type": "execute_result"
    }
   ],
   "source": [
    "index = ['Uses a Macbook', \"Doesn't Use A Macbook\"]\n",
    "columns = ['Codeup Student', 'Not Codeup Student']\n",
    "\n",
    "observed = pd.DataFrame([[49, 20], [1, 30]], index=index, columns=columns)\n",
    "observed"
   ]
  },
  {
   "cell_type": "code",
   "execution_count": 88,
   "id": "c6b389ab-d666-418f-9e24-6aab4f678465",
   "metadata": {
    "tags": []
   },
   "outputs": [
    {
     "data": {
      "text/plain": [
       "(36.65264142122487,\n",
       " 1.4116760526193828e-09,\n",
       " array([[34.5, 34.5],\n",
       "        [15.5, 15.5]]))"
      ]
     },
     "execution_count": 88,
     "metadata": {},
     "output_type": "execute_result"
    }
   ],
   "source": [
    "chi2_stat, p, degf, expected = stats.chi2_contingency(observed)\n",
    "chi2_stat, p, expected"
   ]
  },
  {
   "cell_type": "markdown",
   "id": "fb6edc19-ac34-4ddf-8774-bf7ab96afeb2",
   "metadata": {},
   "source": [
    "$H_0$: Whether you use a macbook and whether you are a codeup student are indpendent of each other\n",
    "\n",
    "$H_a$: Whether you use a macbook and whether you are a codeup student are dependent on each other\n",
    "\n",
    "$⍺$ = 0.05"
   ]
  },
  {
   "cell_type": "code",
   "execution_count": 89,
   "id": "56e001ed-79b7-4080-8a91-b803f5c53f98",
   "metadata": {
    "tags": []
   },
   "outputs": [
    {
     "data": {
      "text/plain": [
       "True"
      ]
     },
     "execution_count": 89,
     "metadata": {},
     "output_type": "execute_result"
    }
   ],
   "source": [
    "alpha = 0.05\n",
    "\n",
    "p < alpha"
   ]
  },
  {
   "cell_type": "markdown",
   "id": "5833f571-467c-4dd4-843f-386f07302564",
   "metadata": {},
   "source": [
    "## 2.Choose another 2 categorical variables from the mpg dataset.\n",
    "### - State your null and alternative hypotheses."
   ]
  },
  {
   "cell_type": "code",
   "execution_count": 90,
   "id": "a832fd49-e584-4357-b047-0f964f4fa601",
   "metadata": {
    "tags": []
   },
   "outputs": [
    {
     "data": {
      "text/html": [
       "<div>\n",
       "<style scoped>\n",
       "    .dataframe tbody tr th:only-of-type {\n",
       "        vertical-align: middle;\n",
       "    }\n",
       "\n",
       "    .dataframe tbody tr th {\n",
       "        vertical-align: top;\n",
       "    }\n",
       "\n",
       "    .dataframe thead th {\n",
       "        text-align: right;\n",
       "    }\n",
       "</style>\n",
       "<table border=\"1\" class=\"dataframe\">\n",
       "  <thead>\n",
       "    <tr style=\"text-align: right;\">\n",
       "      <th></th>\n",
       "      <th>manufacturer</th>\n",
       "      <th>model</th>\n",
       "      <th>displ</th>\n",
       "      <th>year</th>\n",
       "      <th>cyl</th>\n",
       "      <th>trans</th>\n",
       "      <th>drv</th>\n",
       "      <th>cty</th>\n",
       "      <th>hwy</th>\n",
       "      <th>fl</th>\n",
       "      <th>class</th>\n",
       "    </tr>\n",
       "  </thead>\n",
       "  <tbody>\n",
       "    <tr>\n",
       "      <th>1</th>\n",
       "      <td>audi</td>\n",
       "      <td>a4</td>\n",
       "      <td>1.8</td>\n",
       "      <td>1999</td>\n",
       "      <td>4</td>\n",
       "      <td>auto(l5)</td>\n",
       "      <td>f</td>\n",
       "      <td>18</td>\n",
       "      <td>29</td>\n",
       "      <td>p</td>\n",
       "      <td>compact</td>\n",
       "    </tr>\n",
       "    <tr>\n",
       "      <th>2</th>\n",
       "      <td>audi</td>\n",
       "      <td>a4</td>\n",
       "      <td>1.8</td>\n",
       "      <td>1999</td>\n",
       "      <td>4</td>\n",
       "      <td>manual(m5)</td>\n",
       "      <td>f</td>\n",
       "      <td>21</td>\n",
       "      <td>29</td>\n",
       "      <td>p</td>\n",
       "      <td>compact</td>\n",
       "    </tr>\n",
       "    <tr>\n",
       "      <th>3</th>\n",
       "      <td>audi</td>\n",
       "      <td>a4</td>\n",
       "      <td>2.0</td>\n",
       "      <td>2008</td>\n",
       "      <td>4</td>\n",
       "      <td>manual(m6)</td>\n",
       "      <td>f</td>\n",
       "      <td>20</td>\n",
       "      <td>31</td>\n",
       "      <td>p</td>\n",
       "      <td>compact</td>\n",
       "    </tr>\n",
       "    <tr>\n",
       "      <th>4</th>\n",
       "      <td>audi</td>\n",
       "      <td>a4</td>\n",
       "      <td>2.0</td>\n",
       "      <td>2008</td>\n",
       "      <td>4</td>\n",
       "      <td>auto(av)</td>\n",
       "      <td>f</td>\n",
       "      <td>21</td>\n",
       "      <td>30</td>\n",
       "      <td>p</td>\n",
       "      <td>compact</td>\n",
       "    </tr>\n",
       "    <tr>\n",
       "      <th>5</th>\n",
       "      <td>audi</td>\n",
       "      <td>a4</td>\n",
       "      <td>2.8</td>\n",
       "      <td>1999</td>\n",
       "      <td>6</td>\n",
       "      <td>auto(l5)</td>\n",
       "      <td>f</td>\n",
       "      <td>16</td>\n",
       "      <td>26</td>\n",
       "      <td>p</td>\n",
       "      <td>compact</td>\n",
       "    </tr>\n",
       "    <tr>\n",
       "      <th>...</th>\n",
       "      <td>...</td>\n",
       "      <td>...</td>\n",
       "      <td>...</td>\n",
       "      <td>...</td>\n",
       "      <td>...</td>\n",
       "      <td>...</td>\n",
       "      <td>...</td>\n",
       "      <td>...</td>\n",
       "      <td>...</td>\n",
       "      <td>...</td>\n",
       "      <td>...</td>\n",
       "    </tr>\n",
       "    <tr>\n",
       "      <th>230</th>\n",
       "      <td>volkswagen</td>\n",
       "      <td>passat</td>\n",
       "      <td>2.0</td>\n",
       "      <td>2008</td>\n",
       "      <td>4</td>\n",
       "      <td>auto(s6)</td>\n",
       "      <td>f</td>\n",
       "      <td>19</td>\n",
       "      <td>28</td>\n",
       "      <td>p</td>\n",
       "      <td>midsize</td>\n",
       "    </tr>\n",
       "    <tr>\n",
       "      <th>231</th>\n",
       "      <td>volkswagen</td>\n",
       "      <td>passat</td>\n",
       "      <td>2.0</td>\n",
       "      <td>2008</td>\n",
       "      <td>4</td>\n",
       "      <td>manual(m6)</td>\n",
       "      <td>f</td>\n",
       "      <td>21</td>\n",
       "      <td>29</td>\n",
       "      <td>p</td>\n",
       "      <td>midsize</td>\n",
       "    </tr>\n",
       "    <tr>\n",
       "      <th>232</th>\n",
       "      <td>volkswagen</td>\n",
       "      <td>passat</td>\n",
       "      <td>2.8</td>\n",
       "      <td>1999</td>\n",
       "      <td>6</td>\n",
       "      <td>auto(l5)</td>\n",
       "      <td>f</td>\n",
       "      <td>16</td>\n",
       "      <td>26</td>\n",
       "      <td>p</td>\n",
       "      <td>midsize</td>\n",
       "    </tr>\n",
       "    <tr>\n",
       "      <th>233</th>\n",
       "      <td>volkswagen</td>\n",
       "      <td>passat</td>\n",
       "      <td>2.8</td>\n",
       "      <td>1999</td>\n",
       "      <td>6</td>\n",
       "      <td>manual(m5)</td>\n",
       "      <td>f</td>\n",
       "      <td>18</td>\n",
       "      <td>26</td>\n",
       "      <td>p</td>\n",
       "      <td>midsize</td>\n",
       "    </tr>\n",
       "    <tr>\n",
       "      <th>234</th>\n",
       "      <td>volkswagen</td>\n",
       "      <td>passat</td>\n",
       "      <td>3.6</td>\n",
       "      <td>2008</td>\n",
       "      <td>6</td>\n",
       "      <td>auto(s6)</td>\n",
       "      <td>f</td>\n",
       "      <td>17</td>\n",
       "      <td>26</td>\n",
       "      <td>p</td>\n",
       "      <td>midsize</td>\n",
       "    </tr>\n",
       "  </tbody>\n",
       "</table>\n",
       "<p>234 rows × 11 columns</p>\n",
       "</div>"
      ],
      "text/plain": [
       "    manufacturer   model  displ  year  cyl       trans drv  cty  hwy fl  \\\n",
       "1           audi      a4    1.8  1999    4    auto(l5)   f   18   29  p   \n",
       "2           audi      a4    1.8  1999    4  manual(m5)   f   21   29  p   \n",
       "3           audi      a4    2.0  2008    4  manual(m6)   f   20   31  p   \n",
       "4           audi      a4    2.0  2008    4    auto(av)   f   21   30  p   \n",
       "5           audi      a4    2.8  1999    6    auto(l5)   f   16   26  p   \n",
       "..           ...     ...    ...   ...  ...         ...  ..  ...  ... ..   \n",
       "230   volkswagen  passat    2.0  2008    4    auto(s6)   f   19   28  p   \n",
       "231   volkswagen  passat    2.0  2008    4  manual(m6)   f   21   29  p   \n",
       "232   volkswagen  passat    2.8  1999    6    auto(l5)   f   16   26  p   \n",
       "233   volkswagen  passat    2.8  1999    6  manual(m5)   f   18   26  p   \n",
       "234   volkswagen  passat    3.6  2008    6    auto(s6)   f   17   26  p   \n",
       "\n",
       "       class  \n",
       "1    compact  \n",
       "2    compact  \n",
       "3    compact  \n",
       "4    compact  \n",
       "5    compact  \n",
       "..       ...  \n",
       "230  midsize  \n",
       "231  midsize  \n",
       "232  midsize  \n",
       "233  midsize  \n",
       "234  midsize  \n",
       "\n",
       "[234 rows x 11 columns]"
      ]
     },
     "execution_count": 90,
     "metadata": {},
     "output_type": "execute_result"
    }
   ],
   "source": [
    "from pydataset import data\n",
    "\n",
    "mpg = data('mpg')\n",
    "mpg"
   ]
  },
  {
   "cell_type": "code",
   "execution_count": 91,
   "id": "992a0051-2fbb-48ae-b24e-145a193d1050",
   "metadata": {
    "tags": []
   },
   "outputs": [
    {
     "data": {
      "text/html": [
       "<div>\n",
       "<style scoped>\n",
       "    .dataframe tbody tr th:only-of-type {\n",
       "        vertical-align: middle;\n",
       "    }\n",
       "\n",
       "    .dataframe tbody tr th {\n",
       "        vertical-align: top;\n",
       "    }\n",
       "\n",
       "    .dataframe thead th {\n",
       "        text-align: right;\n",
       "    }\n",
       "</style>\n",
       "<table border=\"1\" class=\"dataframe\">\n",
       "  <thead>\n",
       "    <tr style=\"text-align: right;\">\n",
       "      <th></th>\n",
       "      <th>manufacturer</th>\n",
       "      <th>model</th>\n",
       "      <th>displ</th>\n",
       "      <th>year</th>\n",
       "      <th>cyl</th>\n",
       "      <th>trans</th>\n",
       "      <th>drv</th>\n",
       "      <th>cty</th>\n",
       "      <th>hwy</th>\n",
       "      <th>fl</th>\n",
       "      <th>class</th>\n",
       "      <th>avg_mpg</th>\n",
       "    </tr>\n",
       "  </thead>\n",
       "  <tbody>\n",
       "    <tr>\n",
       "      <th>1</th>\n",
       "      <td>audi</td>\n",
       "      <td>a4</td>\n",
       "      <td>1.8</td>\n",
       "      <td>1999</td>\n",
       "      <td>4</td>\n",
       "      <td>auto(l5)</td>\n",
       "      <td>f</td>\n",
       "      <td>18</td>\n",
       "      <td>29</td>\n",
       "      <td>p</td>\n",
       "      <td>compact</td>\n",
       "      <td>23.5</td>\n",
       "    </tr>\n",
       "    <tr>\n",
       "      <th>2</th>\n",
       "      <td>audi</td>\n",
       "      <td>a4</td>\n",
       "      <td>1.8</td>\n",
       "      <td>1999</td>\n",
       "      <td>4</td>\n",
       "      <td>manual(m5)</td>\n",
       "      <td>f</td>\n",
       "      <td>21</td>\n",
       "      <td>29</td>\n",
       "      <td>p</td>\n",
       "      <td>compact</td>\n",
       "      <td>25.0</td>\n",
       "    </tr>\n",
       "    <tr>\n",
       "      <th>3</th>\n",
       "      <td>audi</td>\n",
       "      <td>a4</td>\n",
       "      <td>2.0</td>\n",
       "      <td>2008</td>\n",
       "      <td>4</td>\n",
       "      <td>manual(m6)</td>\n",
       "      <td>f</td>\n",
       "      <td>20</td>\n",
       "      <td>31</td>\n",
       "      <td>p</td>\n",
       "      <td>compact</td>\n",
       "      <td>25.5</td>\n",
       "    </tr>\n",
       "    <tr>\n",
       "      <th>4</th>\n",
       "      <td>audi</td>\n",
       "      <td>a4</td>\n",
       "      <td>2.0</td>\n",
       "      <td>2008</td>\n",
       "      <td>4</td>\n",
       "      <td>auto(av)</td>\n",
       "      <td>f</td>\n",
       "      <td>21</td>\n",
       "      <td>30</td>\n",
       "      <td>p</td>\n",
       "      <td>compact</td>\n",
       "      <td>25.5</td>\n",
       "    </tr>\n",
       "    <tr>\n",
       "      <th>5</th>\n",
       "      <td>audi</td>\n",
       "      <td>a4</td>\n",
       "      <td>2.8</td>\n",
       "      <td>1999</td>\n",
       "      <td>6</td>\n",
       "      <td>auto(l5)</td>\n",
       "      <td>f</td>\n",
       "      <td>16</td>\n",
       "      <td>26</td>\n",
       "      <td>p</td>\n",
       "      <td>compact</td>\n",
       "      <td>21.0</td>\n",
       "    </tr>\n",
       "    <tr>\n",
       "      <th>...</th>\n",
       "      <td>...</td>\n",
       "      <td>...</td>\n",
       "      <td>...</td>\n",
       "      <td>...</td>\n",
       "      <td>...</td>\n",
       "      <td>...</td>\n",
       "      <td>...</td>\n",
       "      <td>...</td>\n",
       "      <td>...</td>\n",
       "      <td>...</td>\n",
       "      <td>...</td>\n",
       "      <td>...</td>\n",
       "    </tr>\n",
       "    <tr>\n",
       "      <th>230</th>\n",
       "      <td>volkswagen</td>\n",
       "      <td>passat</td>\n",
       "      <td>2.0</td>\n",
       "      <td>2008</td>\n",
       "      <td>4</td>\n",
       "      <td>auto(s6)</td>\n",
       "      <td>f</td>\n",
       "      <td>19</td>\n",
       "      <td>28</td>\n",
       "      <td>p</td>\n",
       "      <td>midsize</td>\n",
       "      <td>23.5</td>\n",
       "    </tr>\n",
       "    <tr>\n",
       "      <th>231</th>\n",
       "      <td>volkswagen</td>\n",
       "      <td>passat</td>\n",
       "      <td>2.0</td>\n",
       "      <td>2008</td>\n",
       "      <td>4</td>\n",
       "      <td>manual(m6)</td>\n",
       "      <td>f</td>\n",
       "      <td>21</td>\n",
       "      <td>29</td>\n",
       "      <td>p</td>\n",
       "      <td>midsize</td>\n",
       "      <td>25.0</td>\n",
       "    </tr>\n",
       "    <tr>\n",
       "      <th>232</th>\n",
       "      <td>volkswagen</td>\n",
       "      <td>passat</td>\n",
       "      <td>2.8</td>\n",
       "      <td>1999</td>\n",
       "      <td>6</td>\n",
       "      <td>auto(l5)</td>\n",
       "      <td>f</td>\n",
       "      <td>16</td>\n",
       "      <td>26</td>\n",
       "      <td>p</td>\n",
       "      <td>midsize</td>\n",
       "      <td>21.0</td>\n",
       "    </tr>\n",
       "    <tr>\n",
       "      <th>233</th>\n",
       "      <td>volkswagen</td>\n",
       "      <td>passat</td>\n",
       "      <td>2.8</td>\n",
       "      <td>1999</td>\n",
       "      <td>6</td>\n",
       "      <td>manual(m5)</td>\n",
       "      <td>f</td>\n",
       "      <td>18</td>\n",
       "      <td>26</td>\n",
       "      <td>p</td>\n",
       "      <td>midsize</td>\n",
       "      <td>22.0</td>\n",
       "    </tr>\n",
       "    <tr>\n",
       "      <th>234</th>\n",
       "      <td>volkswagen</td>\n",
       "      <td>passat</td>\n",
       "      <td>3.6</td>\n",
       "      <td>2008</td>\n",
       "      <td>6</td>\n",
       "      <td>auto(s6)</td>\n",
       "      <td>f</td>\n",
       "      <td>17</td>\n",
       "      <td>26</td>\n",
       "      <td>p</td>\n",
       "      <td>midsize</td>\n",
       "      <td>21.5</td>\n",
       "    </tr>\n",
       "  </tbody>\n",
       "</table>\n",
       "<p>234 rows × 12 columns</p>\n",
       "</div>"
      ],
      "text/plain": [
       "    manufacturer   model  displ  year  cyl       trans drv  cty  hwy fl  \\\n",
       "1           audi      a4    1.8  1999    4    auto(l5)   f   18   29  p   \n",
       "2           audi      a4    1.8  1999    4  manual(m5)   f   21   29  p   \n",
       "3           audi      a4    2.0  2008    4  manual(m6)   f   20   31  p   \n",
       "4           audi      a4    2.0  2008    4    auto(av)   f   21   30  p   \n",
       "5           audi      a4    2.8  1999    6    auto(l5)   f   16   26  p   \n",
       "..           ...     ...    ...   ...  ...         ...  ..  ...  ... ..   \n",
       "230   volkswagen  passat    2.0  2008    4    auto(s6)   f   19   28  p   \n",
       "231   volkswagen  passat    2.0  2008    4  manual(m6)   f   21   29  p   \n",
       "232   volkswagen  passat    2.8  1999    6    auto(l5)   f   16   26  p   \n",
       "233   volkswagen  passat    2.8  1999    6  manual(m5)   f   18   26  p   \n",
       "234   volkswagen  passat    3.6  2008    6    auto(s6)   f   17   26  p   \n",
       "\n",
       "       class  avg_mpg  \n",
       "1    compact     23.5  \n",
       "2    compact     25.0  \n",
       "3    compact     25.5  \n",
       "4    compact     25.5  \n",
       "5    compact     21.0  \n",
       "..       ...      ...  \n",
       "230  midsize     23.5  \n",
       "231  midsize     25.0  \n",
       "232  midsize     21.0  \n",
       "233  midsize     22.0  \n",
       "234  midsize     21.5  \n",
       "\n",
       "[234 rows x 12 columns]"
      ]
     },
     "execution_count": 91,
     "metadata": {},
     "output_type": "execute_result"
    }
   ],
   "source": [
    "mpg['avg_mpg'] = (mpg.cty + mpg.hwy) / 2\n",
    "mpg"
   ]
  },
  {
   "cell_type": "code",
   "execution_count": 92,
   "id": "b48f2a75-7645-4bee-9337-e37f843b1de3",
   "metadata": {
    "tags": []
   },
   "outputs": [
    {
     "data": {
      "text/plain": [
       "1        auto\n",
       "2      manual\n",
       "3      manual\n",
       "4        auto\n",
       "5        auto\n",
       "        ...  \n",
       "230      auto\n",
       "231    manual\n",
       "232      auto\n",
       "233    manual\n",
       "234      auto\n",
       "Name: trans, Length: 234, dtype: object"
      ]
     },
     "execution_count": 92,
     "metadata": {},
     "output_type": "execute_result"
    }
   ],
   "source": [
    "mpg.trans = mpg.trans.str[:-4]\n",
    "mpg.trans"
   ]
  },
  {
   "cell_type": "code",
   "execution_count": 93,
   "id": "ad93b64f-298a-43e9-be6a-32f13d166336",
   "metadata": {
    "tags": []
   },
   "outputs": [
    {
     "data": {
      "text/html": [
       "<div>\n",
       "<style scoped>\n",
       "    .dataframe tbody tr th:only-of-type {\n",
       "        vertical-align: middle;\n",
       "    }\n",
       "\n",
       "    .dataframe tbody tr th {\n",
       "        vertical-align: top;\n",
       "    }\n",
       "\n",
       "    .dataframe thead th {\n",
       "        text-align: right;\n",
       "    }\n",
       "</style>\n",
       "<table border=\"1\" class=\"dataframe\">\n",
       "  <thead>\n",
       "    <tr style=\"text-align: right;\">\n",
       "      <th>trans</th>\n",
       "      <th>auto</th>\n",
       "      <th>manual</th>\n",
       "    </tr>\n",
       "    <tr>\n",
       "      <th>manufacturer</th>\n",
       "      <th></th>\n",
       "      <th></th>\n",
       "    </tr>\n",
       "  </thead>\n",
       "  <tbody>\n",
       "    <tr>\n",
       "      <th>audi</th>\n",
       "      <td>11</td>\n",
       "      <td>7</td>\n",
       "    </tr>\n",
       "    <tr>\n",
       "      <th>chevrolet</th>\n",
       "      <td>16</td>\n",
       "      <td>3</td>\n",
       "    </tr>\n",
       "    <tr>\n",
       "      <th>dodge</th>\n",
       "      <td>30</td>\n",
       "      <td>7</td>\n",
       "    </tr>\n",
       "    <tr>\n",
       "      <th>ford</th>\n",
       "      <td>17</td>\n",
       "      <td>8</td>\n",
       "    </tr>\n",
       "    <tr>\n",
       "      <th>honda</th>\n",
       "      <td>4</td>\n",
       "      <td>5</td>\n",
       "    </tr>\n",
       "    <tr>\n",
       "      <th>hyundai</th>\n",
       "      <td>7</td>\n",
       "      <td>7</td>\n",
       "    </tr>\n",
       "    <tr>\n",
       "      <th>jeep</th>\n",
       "      <td>8</td>\n",
       "      <td>0</td>\n",
       "    </tr>\n",
       "    <tr>\n",
       "      <th>land rover</th>\n",
       "      <td>4</td>\n",
       "      <td>0</td>\n",
       "    </tr>\n",
       "    <tr>\n",
       "      <th>lincoln</th>\n",
       "      <td>3</td>\n",
       "      <td>0</td>\n",
       "    </tr>\n",
       "    <tr>\n",
       "      <th>mercury</th>\n",
       "      <td>4</td>\n",
       "      <td>0</td>\n",
       "    </tr>\n",
       "    <tr>\n",
       "      <th>nissan</th>\n",
       "      <td>8</td>\n",
       "      <td>5</td>\n",
       "    </tr>\n",
       "    <tr>\n",
       "      <th>pontiac</th>\n",
       "      <td>5</td>\n",
       "      <td>0</td>\n",
       "    </tr>\n",
       "    <tr>\n",
       "      <th>subaru</th>\n",
       "      <td>7</td>\n",
       "      <td>7</td>\n",
       "    </tr>\n",
       "    <tr>\n",
       "      <th>toyota</th>\n",
       "      <td>20</td>\n",
       "      <td>14</td>\n",
       "    </tr>\n",
       "    <tr>\n",
       "      <th>volkswagen</th>\n",
       "      <td>13</td>\n",
       "      <td>14</td>\n",
       "    </tr>\n",
       "  </tbody>\n",
       "</table>\n",
       "</div>"
      ],
      "text/plain": [
       "trans         auto  manual\n",
       "manufacturer              \n",
       "audi            11       7\n",
       "chevrolet       16       3\n",
       "dodge           30       7\n",
       "ford            17       8\n",
       "honda            4       5\n",
       "hyundai          7       7\n",
       "jeep             8       0\n",
       "land rover       4       0\n",
       "lincoln          3       0\n",
       "mercury          4       0\n",
       "nissan           8       5\n",
       "pontiac          5       0\n",
       "subaru           7       7\n",
       "toyota          20      14\n",
       "volkswagen      13      14"
      ]
     },
     "execution_count": 93,
     "metadata": {},
     "output_type": "execute_result"
    }
   ],
   "source": [
    "manu_vs_trans = pd.crosstab(mpg.manufacturer, mpg.trans)\n",
    "manu_vs_trans"
   ]
  },
  {
   "cell_type": "code",
   "execution_count": 94,
   "id": "f8d4761c-726b-495e-b8da-2ec2671908ca",
   "metadata": {
    "tags": []
   },
   "outputs": [],
   "source": [
    "null = 'There is no association between Manufacturer and Transmission Type.'"
   ]
  },
  {
   "cell_type": "markdown",
   "id": "847e374a-6f15-4ea4-bd2c-9ed7d2241ad0",
   "metadata": {},
   "source": [
    "## Hypothoses\n",
    "\n",
    "#### $H_0$: Manufacturer and Transmission Type are indpendent.\n",
    "\n",
    "#### $H_a$: Manufacturer and Transmission Type are dependent.\n",
    "\n",
    "#### $⍺$= 0.05"
   ]
  },
  {
   "cell_type": "markdown",
   "id": "e4ec3faa-6820-4a1e-bc0d-fe360a79412c",
   "metadata": {
    "tags": []
   },
   "source": [
    "### - State your alpha."
   ]
  },
  {
   "cell_type": "code",
   "execution_count": 95,
   "id": "713e780b-7faa-4854-8eb1-40e416a4aba3",
   "metadata": {},
   "outputs": [
    {
     "data": {
      "text/plain": [
       "True"
      ]
     },
     "execution_count": 95,
     "metadata": {},
     "output_type": "execute_result"
    }
   ],
   "source": [
    "alpha = 0.05\n",
    "\n",
    "p < alpha"
   ]
  },
  {
   "cell_type": "code",
   "execution_count": 96,
   "id": "b9d21182-b560-4302-a525-0668576c4f73",
   "metadata": {
    "tags": []
   },
   "outputs": [
    {
     "data": {
      "text/plain": [
       "1.4116760526193828e-09"
      ]
     },
     "execution_count": 96,
     "metadata": {},
     "output_type": "execute_result"
    }
   ],
   "source": [
    "p"
   ]
  },
  {
   "cell_type": "markdown",
   "id": "03cf7298-cb5b-418a-a92c-c1c5f5df2256",
   "metadata": {},
   "source": [
    "### - Perform a $chi^2$ test of independence."
   ]
  },
  {
   "cell_type": "code",
   "execution_count": 97,
   "id": "732901c7-1d08-4aaf-84af-645e4a950cba",
   "metadata": {},
   "outputs": [
    {
     "data": {
      "text/plain": [
       "(29.293684393117655,\n",
       " 0.00953444310358795,\n",
       " 14,\n",
       " array([[12.07692308,  5.92307692],\n",
       "        [12.74786325,  6.25213675],\n",
       "        [24.82478632, 12.17521368],\n",
       "        [16.77350427,  8.22649573],\n",
       "        [ 6.03846154,  2.96153846],\n",
       "        [ 9.39316239,  4.60683761],\n",
       "        [ 5.36752137,  2.63247863],\n",
       "        [ 2.68376068,  1.31623932],\n",
       "        [ 2.01282051,  0.98717949],\n",
       "        [ 2.68376068,  1.31623932],\n",
       "        [ 8.72222222,  4.27777778],\n",
       "        [ 3.35470085,  1.64529915],\n",
       "        [ 9.39316239,  4.60683761],\n",
       "        [22.81196581, 11.18803419],\n",
       "        [18.11538462,  8.88461538]]))"
      ]
     },
     "execution_count": 97,
     "metadata": {},
     "output_type": "execute_result"
    }
   ],
   "source": [
    "chi2, p, degf, expected = stats.chi2_contingency(manu_vs_trans)\n",
    "chi2, p, degf, expected"
   ]
  },
  {
   "cell_type": "markdown",
   "id": "5c9caef0-294d-46ff-80fe-dc83c8731a39",
   "metadata": {},
   "source": [
    "### - State your conclusion"
   ]
  },
  {
   "cell_type": "code",
   "execution_count": 98,
   "id": "c288431b-0ef8-4ff2-88aa-2465cfae177c",
   "metadata": {
    "tags": []
   },
   "outputs": [
    {
     "name": "stdout",
     "output_type": "stream",
     "text": [
      "Observed:\n",
      "[[11  7]\n",
      " [16  3]\n",
      " [30  7]\n",
      " [17  8]\n",
      " [ 4  5]\n",
      " [ 7  7]\n",
      " [ 8  0]\n",
      " [ 4  0]\n",
      " [ 3  0]\n",
      " [ 4  0]\n",
      " [ 8  5]\n",
      " [ 5  0]\n",
      " [ 7  7]\n",
      " [20 14]\n",
      " [13 14]]\n",
      "\n",
      "Expected:\n",
      "[[12  5]\n",
      " [12  6]\n",
      " [24 12]\n",
      " [16  8]\n",
      " [ 6  2]\n",
      " [ 9  4]\n",
      " [ 5  2]\n",
      " [ 2  1]\n",
      " [ 2  0]\n",
      " [ 2  1]\n",
      " [ 8  4]\n",
      " [ 3  1]\n",
      " [ 9  4]\n",
      " [22 11]\n",
      " [18  8]]\n",
      "________________\n",
      "\n",
      "ꭓ² = 29.2937\n",
      "p  = 0.00953444310358795\n"
     ]
    }
   ],
   "source": [
    "print(f'''Observed:\n",
    "{manu_vs_trans.values}\n",
    "\n",
    "Expected:\n",
    "{expected.astype(int)}\n",
    "________________\n",
    "\n",
    "ꭓ² = {chi2:.4f}\n",
    "p  = {p}''')"
   ]
  },
  {
   "cell_type": "code",
   "execution_count": 99,
   "id": "c3320b4a-12f5-4720-9070-9ecc69c059af",
   "metadata": {
    "tags": []
   },
   "outputs": [
    {
     "name": "stdout",
     "output_type": "stream",
     "text": [
      "We reject H₀:There is no association between Manufacturer and Transmission Type.\n"
     ]
    }
   ],
   "source": [
    "#Conclude:\n",
    "\n",
    "if p < alpha:\n",
    "    print(f'We reject H₀:{null}')\n",
    "else:\n",
    "    print(f'We FAIL to reject H₀:{null}')"
   ]
  },
  {
   "cell_type": "markdown",
   "id": "142bd870-6298-4777-808e-822d544255da",
   "metadata": {},
   "source": [
    "## 3. Use the data from the employees database to answer these questions:\n",
    "### - Is an employee's gender independent of whether an employee works in sales or marketing? (only look at current employees)"
   ]
  },
  {
   "cell_type": "code",
   "execution_count": 100,
   "id": "704041cc-a1c3-45a3-969a-acb173d29984",
   "metadata": {
    "tags": []
   },
   "outputs": [
    {
     "data": {
      "text/html": [
       "<div>\n",
       "<style scoped>\n",
       "    .dataframe tbody tr th:only-of-type {\n",
       "        vertical-align: middle;\n",
       "    }\n",
       "\n",
       "    .dataframe tbody tr th {\n",
       "        vertical-align: top;\n",
       "    }\n",
       "\n",
       "    .dataframe thead th {\n",
       "        text-align: right;\n",
       "    }\n",
       "</style>\n",
       "<table border=\"1\" class=\"dataframe\">\n",
       "  <thead>\n",
       "    <tr style=\"text-align: right;\">\n",
       "      <th></th>\n",
       "      <th>gender</th>\n",
       "      <th>dept_name</th>\n",
       "    </tr>\n",
       "  </thead>\n",
       "  <tbody>\n",
       "    <tr>\n",
       "      <th>0</th>\n",
       "      <td>F</td>\n",
       "      <td>Marketing</td>\n",
       "    </tr>\n",
       "    <tr>\n",
       "      <th>1</th>\n",
       "      <td>M</td>\n",
       "      <td>Marketing</td>\n",
       "    </tr>\n",
       "    <tr>\n",
       "      <th>2</th>\n",
       "      <td>F</td>\n",
       "      <td>Marketing</td>\n",
       "    </tr>\n",
       "    <tr>\n",
       "      <th>3</th>\n",
       "      <td>F</td>\n",
       "      <td>Marketing</td>\n",
       "    </tr>\n",
       "    <tr>\n",
       "      <th>4</th>\n",
       "      <td>F</td>\n",
       "      <td>Marketing</td>\n",
       "    </tr>\n",
       "    <tr>\n",
       "      <th>...</th>\n",
       "      <td>...</td>\n",
       "      <td>...</td>\n",
       "    </tr>\n",
       "    <tr>\n",
       "      <th>52538</th>\n",
       "      <td>F</td>\n",
       "      <td>Sales</td>\n",
       "    </tr>\n",
       "    <tr>\n",
       "      <th>52539</th>\n",
       "      <td>M</td>\n",
       "      <td>Sales</td>\n",
       "    </tr>\n",
       "    <tr>\n",
       "      <th>52540</th>\n",
       "      <td>M</td>\n",
       "      <td>Sales</td>\n",
       "    </tr>\n",
       "    <tr>\n",
       "      <th>52541</th>\n",
       "      <td>F</td>\n",
       "      <td>Sales</td>\n",
       "    </tr>\n",
       "    <tr>\n",
       "      <th>52542</th>\n",
       "      <td>F</td>\n",
       "      <td>Sales</td>\n",
       "    </tr>\n",
       "  </tbody>\n",
       "</table>\n",
       "<p>52543 rows × 2 columns</p>\n",
       "</div>"
      ],
      "text/plain": [
       "      gender  dept_name\n",
       "0          F  Marketing\n",
       "1          M  Marketing\n",
       "2          F  Marketing\n",
       "3          F  Marketing\n",
       "4          F  Marketing\n",
       "...      ...        ...\n",
       "52538      F      Sales\n",
       "52539      M      Sales\n",
       "52540      M      Sales\n",
       "52541      F      Sales\n",
       "52542      F      Sales\n",
       "\n",
       "[52543 rows x 2 columns]"
      ]
     },
     "execution_count": 100,
     "metadata": {},
     "output_type": "execute_result"
    }
   ],
   "source": [
    "import pandas as pd\n",
    "import env\n",
    "\n",
    "url = f'mysql+pymysql://{env.user}:{env.password}@{env.host}/employees' \n",
    "query = '''\n",
    "SELECT e.gender, d.dept_name\n",
    "FROM employees e\n",
    "JOIN dept_emp de USING (emp_no)\n",
    "JOIN departments d USING (dept_no)\n",
    "WHERE de.to_date > NOW()\n",
    "\tAND d.dept_name IN ('Marketing', 'Sales')\n",
    "'''\n",
    "\n",
    "gender_and_dept = pd.read_sql(query, url)\n",
    "gender_and_dept"
   ]
  },
  {
   "cell_type": "code",
   "execution_count": 101,
   "id": "8ee60b98-6ea1-4c5d-8db9-8353891960e5",
   "metadata": {},
   "outputs": [
    {
     "data": {
      "text/html": [
       "<div>\n",
       "<style scoped>\n",
       "    .dataframe tbody tr th:only-of-type {\n",
       "        vertical-align: middle;\n",
       "    }\n",
       "\n",
       "    .dataframe tbody tr th {\n",
       "        vertical-align: top;\n",
       "    }\n",
       "\n",
       "    .dataframe thead th {\n",
       "        text-align: right;\n",
       "    }\n",
       "</style>\n",
       "<table border=\"1\" class=\"dataframe\">\n",
       "  <thead>\n",
       "    <tr style=\"text-align: right;\">\n",
       "      <th>dept_name</th>\n",
       "      <th>Marketing</th>\n",
       "      <th>Sales</th>\n",
       "    </tr>\n",
       "    <tr>\n",
       "      <th>gender</th>\n",
       "      <th></th>\n",
       "      <th></th>\n",
       "    </tr>\n",
       "  </thead>\n",
       "  <tbody>\n",
       "    <tr>\n",
       "      <th>F</th>\n",
       "      <td>5864</td>\n",
       "      <td>14999</td>\n",
       "    </tr>\n",
       "    <tr>\n",
       "      <th>M</th>\n",
       "      <td>8978</td>\n",
       "      <td>22702</td>\n",
       "    </tr>\n",
       "  </tbody>\n",
       "</table>\n",
       "</div>"
      ],
      "text/plain": [
       "dept_name  Marketing  Sales\n",
       "gender                     \n",
       "F               5864  14999\n",
       "M               8978  22702"
      ]
     },
     "execution_count": 101,
     "metadata": {},
     "output_type": "execute_result"
    }
   ],
   "source": [
    "ctab = pd.crosstab(gender_and_dept.gender, gender_and_dept.dept_name)\n",
    "ctab"
   ]
  },
  {
   "cell_type": "markdown",
   "id": "0d9df19a-f0a0-4c7b-bc2f-a969af37d41f",
   "metadata": {},
   "source": [
    "### Hypothoses\n",
    "\n",
    "#### $H_0$: Gender and whether in Sales and Marketing are indpendent.\n",
    "\n",
    "#### $H_a$: Gender and whether in Sales and Marketing are dependent.\n",
    "\n",
    "#### ⍺ = 0.01"
   ]
  },
  {
   "cell_type": "code",
   "execution_count": 102,
   "id": "fe6a9a1b-4366-4fcd-b07e-399ad4263d26",
   "metadata": {
    "tags": []
   },
   "outputs": [],
   "source": [
    "null = \"There is no association between gender and whether in Sales and Marketing.\""
   ]
  },
  {
   "cell_type": "code",
   "execution_count": 103,
   "id": "418f1f3c-0d7a-4de8-81a7-d30c48c74816",
   "metadata": {
    "tags": []
   },
   "outputs": [
    {
     "data": {
      "text/plain": [
       "(0.3240332004060638,\n",
       " 0.5691938610810126,\n",
       " 1,\n",
       " array([[ 5893.2426013, 14969.7573987],\n",
       "        [ 8948.7573987, 22731.2426013]]))"
      ]
     },
     "execution_count": 103,
     "metadata": {},
     "output_type": "execute_result"
    }
   ],
   "source": [
    "chi2_stat, p, degf, expected = stats.chi2_contingency(ctab)\n",
    "chi2_stat, p, degf, expected"
   ]
  },
  {
   "cell_type": "code",
   "execution_count": 104,
   "id": "55311801-7e51-42e9-af9b-52152122e134",
   "metadata": {
    "tags": []
   },
   "outputs": [
    {
     "data": {
      "text/plain": [
       "False"
      ]
     },
     "execution_count": 104,
     "metadata": {},
     "output_type": "execute_result"
    }
   ],
   "source": [
    "alpha = 0.01\n",
    "\n",
    "p < alpha"
   ]
  },
  {
   "cell_type": "code",
   "execution_count": 105,
   "id": "3f75d876-d4a4-4ee8-9f8f-ddf54c6166ff",
   "metadata": {
    "tags": []
   },
   "outputs": [
    {
     "data": {
      "text/plain": [
       "0.5691938610810126"
      ]
     },
     "execution_count": 105,
     "metadata": {},
     "output_type": "execute_result"
    }
   ],
   "source": [
    "p"
   ]
  },
  {
   "cell_type": "code",
   "execution_count": 106,
   "id": "d25c339e-3ec7-4554-924f-5c1034467bb1",
   "metadata": {
    "tags": []
   },
   "outputs": [
    {
     "name": "stdout",
     "output_type": "stream",
     "text": [
      "We FAIL to reject H₀:There is no association between gender and whether in Sales and Marketing.\n"
     ]
    }
   ],
   "source": [
    "if p < alpha:\n",
    "    print(f'We reject H₀:{null}')\n",
    "else:\n",
    "    print(f'We FAIL to reject H₀:{null}')"
   ]
  },
  {
   "cell_type": "markdown",
   "id": "5318496c-8656-4e82-a2c8-9cad371a52e3",
   "metadata": {},
   "source": [
    "### - Is an employee's gender independent of whether or not they are or have been a manager?"
   ]
  },
  {
   "cell_type": "code",
   "execution_count": 107,
   "id": "367731e6-0c85-4162-bd9f-a0bcdf89c248",
   "metadata": {},
   "outputs": [
    {
     "data": {
      "text/html": [
       "<div>\n",
       "<style scoped>\n",
       "    .dataframe tbody tr th:only-of-type {\n",
       "        vertical-align: middle;\n",
       "    }\n",
       "\n",
       "    .dataframe tbody tr th {\n",
       "        vertical-align: top;\n",
       "    }\n",
       "\n",
       "    .dataframe thead th {\n",
       "        text-align: right;\n",
       "    }\n",
       "</style>\n",
       "<table border=\"1\" class=\"dataframe\">\n",
       "  <thead>\n",
       "    <tr style=\"text-align: right;\">\n",
       "      <th></th>\n",
       "      <th>gender</th>\n",
       "      <th>dept_no</th>\n",
       "    </tr>\n",
       "  </thead>\n",
       "  <tbody>\n",
       "    <tr>\n",
       "      <th>0</th>\n",
       "      <td>M</td>\n",
       "      <td>None</td>\n",
       "    </tr>\n",
       "    <tr>\n",
       "      <th>1</th>\n",
       "      <td>F</td>\n",
       "      <td>None</td>\n",
       "    </tr>\n",
       "    <tr>\n",
       "      <th>2</th>\n",
       "      <td>M</td>\n",
       "      <td>None</td>\n",
       "    </tr>\n",
       "    <tr>\n",
       "      <th>3</th>\n",
       "      <td>M</td>\n",
       "      <td>None</td>\n",
       "    </tr>\n",
       "    <tr>\n",
       "      <th>4</th>\n",
       "      <td>M</td>\n",
       "      <td>None</td>\n",
       "    </tr>\n",
       "    <tr>\n",
       "      <th>...</th>\n",
       "      <td>...</td>\n",
       "      <td>...</td>\n",
       "    </tr>\n",
       "    <tr>\n",
       "      <th>300019</th>\n",
       "      <td>F</td>\n",
       "      <td>None</td>\n",
       "    </tr>\n",
       "    <tr>\n",
       "      <th>300020</th>\n",
       "      <td>M</td>\n",
       "      <td>None</td>\n",
       "    </tr>\n",
       "    <tr>\n",
       "      <th>300021</th>\n",
       "      <td>M</td>\n",
       "      <td>None</td>\n",
       "    </tr>\n",
       "    <tr>\n",
       "      <th>300022</th>\n",
       "      <td>M</td>\n",
       "      <td>None</td>\n",
       "    </tr>\n",
       "    <tr>\n",
       "      <th>300023</th>\n",
       "      <td>M</td>\n",
       "      <td>None</td>\n",
       "    </tr>\n",
       "  </tbody>\n",
       "</table>\n",
       "<p>300024 rows × 2 columns</p>\n",
       "</div>"
      ],
      "text/plain": [
       "       gender dept_no\n",
       "0           M    None\n",
       "1           F    None\n",
       "2           M    None\n",
       "3           M    None\n",
       "4           M    None\n",
       "...       ...     ...\n",
       "300019      F    None\n",
       "300020      M    None\n",
       "300021      M    None\n",
       "300022      M    None\n",
       "300023      M    None\n",
       "\n",
       "[300024 rows x 2 columns]"
      ]
     },
     "execution_count": 107,
     "metadata": {},
     "output_type": "execute_result"
    }
   ],
   "source": [
    "query = '''\n",
    "SELECT e.gender, dm.dept_no\n",
    "FROM employees e\n",
    "LEFT JOIN dept_manager dm USING (emp_no)\n",
    "'''\n",
    "\n",
    "gender_and_was_manager = pd.read_sql(query, url)\n",
    "gender_and_was_manager"
   ]
  },
  {
   "cell_type": "code",
   "execution_count": 108,
   "id": "138b7bed-f813-4342-a8a8-e473c6d0fafa",
   "metadata": {
    "tags": []
   },
   "outputs": [
    {
     "data": {
      "text/html": [
       "<div>\n",
       "<style scoped>\n",
       "    .dataframe tbody tr th:only-of-type {\n",
       "        vertical-align: middle;\n",
       "    }\n",
       "\n",
       "    .dataframe tbody tr th {\n",
       "        vertical-align: top;\n",
       "    }\n",
       "\n",
       "    .dataframe thead th {\n",
       "        text-align: right;\n",
       "    }\n",
       "</style>\n",
       "<table border=\"1\" class=\"dataframe\">\n",
       "  <thead>\n",
       "    <tr style=\"text-align: right;\">\n",
       "      <th></th>\n",
       "      <th>gender</th>\n",
       "      <th>dept_no</th>\n",
       "      <th>was_manager</th>\n",
       "    </tr>\n",
       "  </thead>\n",
       "  <tbody>\n",
       "    <tr>\n",
       "      <th>0</th>\n",
       "      <td>M</td>\n",
       "      <td>None</td>\n",
       "      <td>Has Been Manager</td>\n",
       "    </tr>\n",
       "    <tr>\n",
       "      <th>1</th>\n",
       "      <td>F</td>\n",
       "      <td>None</td>\n",
       "      <td>Has Been Manager</td>\n",
       "    </tr>\n",
       "    <tr>\n",
       "      <th>2</th>\n",
       "      <td>M</td>\n",
       "      <td>None</td>\n",
       "      <td>Has Been Manager</td>\n",
       "    </tr>\n",
       "    <tr>\n",
       "      <th>3</th>\n",
       "      <td>M</td>\n",
       "      <td>None</td>\n",
       "      <td>Has Been Manager</td>\n",
       "    </tr>\n",
       "    <tr>\n",
       "      <th>4</th>\n",
       "      <td>M</td>\n",
       "      <td>None</td>\n",
       "      <td>Has Been Manager</td>\n",
       "    </tr>\n",
       "    <tr>\n",
       "      <th>...</th>\n",
       "      <td>...</td>\n",
       "      <td>...</td>\n",
       "      <td>...</td>\n",
       "    </tr>\n",
       "    <tr>\n",
       "      <th>300019</th>\n",
       "      <td>F</td>\n",
       "      <td>None</td>\n",
       "      <td>Has Been Manager</td>\n",
       "    </tr>\n",
       "    <tr>\n",
       "      <th>300020</th>\n",
       "      <td>M</td>\n",
       "      <td>None</td>\n",
       "      <td>Has Been Manager</td>\n",
       "    </tr>\n",
       "    <tr>\n",
       "      <th>300021</th>\n",
       "      <td>M</td>\n",
       "      <td>None</td>\n",
       "      <td>Has Been Manager</td>\n",
       "    </tr>\n",
       "    <tr>\n",
       "      <th>300022</th>\n",
       "      <td>M</td>\n",
       "      <td>None</td>\n",
       "      <td>Has Been Manager</td>\n",
       "    </tr>\n",
       "    <tr>\n",
       "      <th>300023</th>\n",
       "      <td>M</td>\n",
       "      <td>None</td>\n",
       "      <td>Has Been Manager</td>\n",
       "    </tr>\n",
       "  </tbody>\n",
       "</table>\n",
       "<p>300024 rows × 3 columns</p>\n",
       "</div>"
      ],
      "text/plain": [
       "       gender dept_no       was_manager\n",
       "0           M    None  Has Been Manager\n",
       "1           F    None  Has Been Manager\n",
       "2           M    None  Has Been Manager\n",
       "3           M    None  Has Been Manager\n",
       "4           M    None  Has Been Manager\n",
       "...       ...     ...               ...\n",
       "300019      F    None  Has Been Manager\n",
       "300020      M    None  Has Been Manager\n",
       "300021      M    None  Has Been Manager\n",
       "300022      M    None  Has Been Manager\n",
       "300023      M    None  Has Been Manager\n",
       "\n",
       "[300024 rows x 3 columns]"
      ]
     },
     "execution_count": 108,
     "metadata": {},
     "output_type": "execute_result"
    }
   ],
   "source": [
    "def was_manager(value):\n",
    "    if value == None:\n",
    "        return 'Has Been Manager'\n",
    "    else:\n",
    "        return 'Has Not Been Manager'\n",
    "\n",
    "gender_and_was_manager['was_manager'] = gender_and_was_manager.dept_no.apply(was_manager)\n",
    "gender_and_was_manager"
   ]
  },
  {
   "cell_type": "code",
   "execution_count": 109,
   "id": "3b7778c0-09f1-492b-ae66-6fc818cb1577",
   "metadata": {
    "tags": []
   },
   "outputs": [
    {
     "data": {
      "text/html": [
       "<div>\n",
       "<style scoped>\n",
       "    .dataframe tbody tr th:only-of-type {\n",
       "        vertical-align: middle;\n",
       "    }\n",
       "\n",
       "    .dataframe tbody tr th {\n",
       "        vertical-align: top;\n",
       "    }\n",
       "\n",
       "    .dataframe thead th {\n",
       "        text-align: right;\n",
       "    }\n",
       "</style>\n",
       "<table border=\"1\" class=\"dataframe\">\n",
       "  <thead>\n",
       "    <tr style=\"text-align: right;\">\n",
       "      <th>was_manager</th>\n",
       "      <th>Has Been Manager</th>\n",
       "      <th>Has Not Been Manager</th>\n",
       "    </tr>\n",
       "    <tr>\n",
       "      <th>gender</th>\n",
       "      <th></th>\n",
       "      <th></th>\n",
       "    </tr>\n",
       "  </thead>\n",
       "  <tbody>\n",
       "    <tr>\n",
       "      <th>F</th>\n",
       "      <td>120038</td>\n",
       "      <td>13</td>\n",
       "    </tr>\n",
       "    <tr>\n",
       "      <th>M</th>\n",
       "      <td>179962</td>\n",
       "      <td>11</td>\n",
       "    </tr>\n",
       "  </tbody>\n",
       "</table>\n",
       "</div>"
      ],
      "text/plain": [
       "was_manager  Has Been Manager  Has Not Been Manager\n",
       "gender                                             \n",
       "F                      120038                    13\n",
       "M                      179962                    11"
      ]
     },
     "execution_count": 109,
     "metadata": {},
     "output_type": "execute_result"
    }
   ],
   "source": [
    "ctab = pd.crosstab(gender_and_was_manager.gender, gender_and_was_manager.was_manager)\n",
    "ctab"
   ]
  },
  {
   "cell_type": "markdown",
   "id": "8b5e1e5f-808c-47b0-984b-cd1036abdaf2",
   "metadata": {},
   "source": [
    "### Hypothoses\n",
    "\n",
    "#### $H_0$: Gender and whether has been manager are indpendent.\n",
    "\n",
    "#### $H_a$: Gender and whether has been manager are dependent.\n",
    "\n",
    "#### ⍺ = 0.01"
   ]
  },
  {
   "cell_type": "code",
   "execution_count": 110,
   "id": "8180e48d-cb79-44c9-b916-d0aaee15ca68",
   "metadata": {
    "tags": []
   },
   "outputs": [],
   "source": [
    "null = \"There is no association between gender and whether has been manager.\""
   ]
  },
  {
   "cell_type": "code",
   "execution_count": 111,
   "id": "7fc1e2ac-e0ef-4ac7-84cf-e602c9c3e060",
   "metadata": {
    "tags": []
   },
   "outputs": [
    {
     "data": {
      "text/plain": [
       "(1.4566857643547197,\n",
       " 0.22745818732810363,\n",
       " 1,\n",
       " array([[1.20041397e+05, 9.60331174e+00],\n",
       "        [1.79958603e+05, 1.43966883e+01]]))"
      ]
     },
     "execution_count": 111,
     "metadata": {},
     "output_type": "execute_result"
    }
   ],
   "source": [
    "chi2_stat, p, degf, expected = stats.chi2_contingency(ctab)\n",
    "chi2_stat, p, degf, expected"
   ]
  },
  {
   "cell_type": "code",
   "execution_count": 112,
   "id": "e28fab71-ef7f-43cf-bcba-b5f26b34bb22",
   "metadata": {
    "tags": []
   },
   "outputs": [
    {
     "data": {
      "text/plain": [
       "False"
      ]
     },
     "execution_count": 112,
     "metadata": {},
     "output_type": "execute_result"
    }
   ],
   "source": [
    "alpha = 0.01\n",
    "\n",
    "p < alpha"
   ]
  },
  {
   "cell_type": "code",
   "execution_count": 113,
   "id": "4a3aae88-f10b-43a8-9686-7ed0629525ea",
   "metadata": {
    "tags": []
   },
   "outputs": [
    {
     "data": {
      "text/plain": [
       "0.22745818732810363"
      ]
     },
     "execution_count": 113,
     "metadata": {},
     "output_type": "execute_result"
    }
   ],
   "source": [
    "p"
   ]
  },
  {
   "cell_type": "code",
   "execution_count": 114,
   "id": "74cdd200-df4f-47a9-bb85-f1dbd232d1cb",
   "metadata": {
    "tags": []
   },
   "outputs": [
    {
     "name": "stdout",
     "output_type": "stream",
     "text": [
      "We FAIL to reject H₀:There is no association between gender and whether has been manager.\n"
     ]
    }
   ],
   "source": [
    "if p < alpha:\n",
    "    print(f'We reject H₀:{null}')\n",
    "else:\n",
    "    print(f'We FAIL to reject H₀:{null}')"
   ]
  },
  {
   "cell_type": "code",
   "execution_count": null,
   "id": "19da3b31-e93c-42b1-9204-bb80ce7f0db6",
   "metadata": {},
   "outputs": [],
   "source": []
  }
 ],
 "metadata": {
  "kernelspec": {
   "display_name": "Python 3 (ipykernel)",
   "language": "python",
   "name": "python3"
  },
  "language_info": {
   "codemirror_mode": {
    "name": "ipython",
    "version": 3
   },
   "file_extension": ".py",
   "mimetype": "text/x-python",
   "name": "python",
   "nbconvert_exporter": "python",
   "pygments_lexer": "ipython3",
   "version": "3.11.4"
  }
 },
 "nbformat": 4,
 "nbformat_minor": 5
}
